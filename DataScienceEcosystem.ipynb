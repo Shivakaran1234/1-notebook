{
 "cells": [
  {
   "cell_type": "markdown",
   "id": "bd952076",
   "metadata": {},
   "source": [
    "Data Science Tools and Ecosystem"
   ]
  },
  {
   "cell_type": "code",
   "execution_count": null,
   "id": "909ad3cb",
   "metadata": {},
   "outputs": [],
   "source": []
  },
  {
   "cell_type": "code",
   "execution_count": null,
   "id": "c73b7b3f",
   "metadata": {},
   "outputs": [],
   "source": []
  },
  {
   "cell_type": "markdown",
   "id": "374f32c8",
   "metadata": {},
   "source": [
    "Intoduction"
   ]
  },
  {
   "cell_type": "markdown",
   "id": "a937ca43",
   "metadata": {},
   "source": [
    "In this notebook, Data Science Tools and Ecosystem are summarized."
   ]
  },
  {
   "cell_type": "markdown",
   "id": "7dabc68a",
   "metadata": {},
   "source": [
    "Data Science languages"
   ]
  },
  {
   "cell_type": "markdown",
   "id": "d444df82",
   "metadata": {},
   "source": [
    "Some of the popular languages that Data Scientists use are:"
   ]
  },
  {
   "cell_type": "markdown",
   "id": "3a25b407",
   "metadata": {},
   "source": [
    "1. Python\n",
    "2. C#\n",
    "3. R\n",
    "4. Ruby"
   ]
  },
  {
   "cell_type": "code",
   "execution_count": null,
   "id": "2e44251e",
   "metadata": {},
   "outputs": [],
   "source": []
  },
  {
   "cell_type": "code",
   "execution_count": null,
   "id": "fc9bd1c7",
   "metadata": {},
   "outputs": [],
   "source": []
  },
  {
   "cell_type": "markdown",
   "id": "f79dbccf",
   "metadata": {},
   "source": [
    "Data Science Libraries"
   ]
  },
  {
   "cell_type": "markdown",
   "id": "d8ff608f",
   "metadata": {},
   "source": [
    "Some of the commonly used libraries used by Data Scientists include:\n",
    "1. Numpy\n",
    "2. Pandas\n",
    "3. Matplotlib\n",
    "4. Scikit-learn\n",
    "5. Tensorflow"
   ]
  },
  {
   "cell_type": "code",
   "execution_count": null,
   "id": "ba352114",
   "metadata": {},
   "outputs": [],
   "source": []
  },
  {
   "cell_type": "markdown",
   "id": "b6e9fd88",
   "metadata": {},
   "source": [
    "Data Science Tools"
   ]
  },
  {
   "cell_type": "markdown",
   "id": "72e6ccc5",
   "metadata": {},
   "source": [
    "Jupyter\n",
    "Rstudio\n",
    "Anaconda"
   ]
  },
  {
   "cell_type": "code",
   "execution_count": null,
   "id": "6f1b2bd5",
   "metadata": {},
   "outputs": [],
   "source": []
  },
  {
   "cell_type": "markdown",
   "id": "a702fd20",
   "metadata": {},
   "source": [
    "introducing arithmetic expression examples"
   ]
  },
  {
   "cell_type": "markdown",
   "id": "58c84b7e",
   "metadata": {},
   "source": [
    "### Below are a few examples of evaluating arithmetic expressions in Python"
   ]
  },
  {
   "cell_type": "code",
   "execution_count": 1,
   "id": "6204dbd7",
   "metadata": {},
   "outputs": [
    {
     "data": {
      "text/plain": [
       "17"
      ]
     },
     "execution_count": 1,
     "metadata": {},
     "output_type": "execute_result"
    }
   ],
   "source": [
    "#This a simple arithmetic expression to mutiply then add integers\n",
    "(3*4)+5"
   ]
  },
  {
   "cell_type": "code",
   "execution_count": 2,
   "id": "bc9349c4",
   "metadata": {},
   "outputs": [
    {
     "data": {
      "text/plain": [
       "3.3333333333333335"
      ]
     },
     "execution_count": 2,
     "metadata": {},
     "output_type": "execute_result"
    }
   ],
   "source": [
    "#This will convert 200 minutes to hours by diving by 60\n",
    "200/60"
   ]
  },
  {
   "cell_type": "markdown",
   "id": "e2c68522",
   "metadata": {},
   "source": [
    "Objectives"
   ]
  },
  {
   "cell_type": "markdown",
   "id": "3cbbb977",
   "metadata": {},
   "source": [
    "### Objectives:\n",
    ".Python\n",
    ".R\n",
    ".C#\n",
    ".Ruby"
   ]
  },
  {
   "cell_type": "markdown",
   "id": "92302f74",
   "metadata": {},
   "source": [
    "Author's Name"
   ]
  },
  {
   "cell_type": "markdown",
   "id": "bab378d4",
   "metadata": {},
   "source": [
    "## Author:\n",
    "Shivakaran Dasari"
   ]
  },
  {
   "cell_type": "code",
   "execution_count": null,
   "id": "e78469a9",
   "metadata": {},
   "outputs": [],
   "source": []
  }
 ],
 "metadata": {
  "kernelspec": {
   "display_name": "Python 3 (ipykernel)",
   "language": "python",
   "name": "python3"
  },
  "language_info": {
   "codemirror_mode": {
    "name": "ipython",
    "version": 3
   },
   "file_extension": ".py",
   "mimetype": "text/x-python",
   "name": "python",
   "nbconvert_exporter": "python",
   "pygments_lexer": "ipython3",
   "version": "3.10.9"
  }
 },
 "nbformat": 4,
 "nbformat_minor": 5
}
